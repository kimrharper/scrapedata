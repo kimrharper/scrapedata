{
 "cells": [
  {
   "cell_type": "code",
   "execution_count": 14,
   "metadata": {},
   "outputs": [],
   "source": [
    "import os\n",
    "for filename in os.listdir(\"scraper/images/.\"):\n",
    "    if filename.startswith(\"cheese_\"):\n",
    "        os.rename(filename, filename[7:])"
   ]
  },
  {
   "cell_type": "code",
   "execution_count": 23,
   "metadata": {},
   "outputs": [],
   "source": [
    "folder_list = []\n",
    "for filename in os.listdir(\"scraper/images/tcc/.\"):\n",
    "    if filename != '.DS_Store':\n",
    "        folder_list.append(filename)"
   ]
  },
  {
   "cell_type": "markdown",
   "metadata": {},
   "source": [
    "for folder in folder_list:\n",
    "    path = \"scraper/images/tcc/\"\n",
    "    fpath = folder+'/'\n",
    "    for file in os.listdir(path+folder+'/.'):\n",
    "        old_name = path+fpath+file\n",
    "        new_name = path+fpath+file[0:-3] + 'jpg'\n",
    "        print(new_name)\n",
    "        os.rename(old_name, new_name)"
   ]
  },
  {
   "cell_type": "code",
   "execution_count": null,
   "metadata": {},
   "outputs": [],
   "source": []
  }
 ],
 "metadata": {
  "kernelspec": {
   "display_name": "Python 3",
   "language": "python",
   "name": "python3"
  },
  "language_info": {
   "codemirror_mode": {
    "name": "ipython",
    "version": 3
   },
   "file_extension": ".py",
   "mimetype": "text/x-python",
   "name": "python",
   "nbconvert_exporter": "python",
   "pygments_lexer": "ipython3",
   "version": "3.7.0"
  }
 },
 "nbformat": 4,
 "nbformat_minor": 2
}
